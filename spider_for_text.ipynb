{
 "cells": [
  {
   "cell_type": "code",
   "execution_count": 5,
   "metadata": {},
   "outputs": [],
   "source": []
  },
  {
   "cell_type": "code",
   "execution_count": 27,
   "metadata": {},
   "outputs": [],
   "source": [
    "#url = 'http://www.moe.gov.cn/was5/web/search?searchword=%E5%A4%A7%E5%AD%A6%E7%94%9F%E5%88%9B%E6%96%B0%E5%88%9B%E4%B8%9A&btn_search=&channelid=244081&timescope=&timescopecolumn=&orderby=-DOCRELTIME&perpage=20&searchscope='\n",
    "\n",
    "#response = bs(requests.get(url,headers = header).content,'lxml')\n"
   ]
  },
  {
   "cell_type": "code",
   "execution_count": 25,
   "metadata": {},
   "outputs": [],
   "source": [
    "# #ans = response.find_all('a')\n",
    "# addr = []\n",
    "# for ele in ans:\n",
    "#     txt = str(ele)\n",
    "#     start = txt.find('\"')\n",
    "#     txt[start+1:]\n",
    "#     end = txt[start+1:].find('\"')\n",
    "#     addr.append(txt[start+1:start+end+1])\n",
    "# #addr 获取所有链接\n",
    "\n",
    "\n",
    "#text"
   ]
  },
  {
   "cell_type": "code",
   "execution_count": 19,
   "metadata": {},
   "outputs": [
    {
     "data": {
      "text/plain": [
       "['http://www.moe.gov.cn/jyb_xwfb/moe_2082/zl_2019n/2019_zl79/201910/t20191017_404097.html',\n",
       " 'http://www.moe.gov.cn/jyb_xwfb/s5147/201910/t20191017_403942.html',\n",
       " 'http://www.moe.gov.cn/jyb_xwfb/moe_2082/zl_2019n/2019_zl79/201910/t20191016_403799.html',\n",
       " 'http://www.moe.gov.cn/jyb_xwfb/moe_2082/zl_2019n/2019_zl79/201910/t20191016_403733.html',\n",
       " 'http://www.moe.gov.cn/jyb_xwfb/gzdt_gzdt/moe_1485/201910/t20191016_403731.html',\n",
       " 'http://www.moe.gov.cn/jyb_xwfb/moe_2082/zl_2019n/2019_zl79/201910/t20191016_403721.html',\n",
       " 'http://www.moe.gov.cn/jyb_xwfb/moe_2082/zl_2019n/2019_zl79/201910/t20191016_403717.html',\n",
       " 'http://www.moe.gov.cn/jyb_xwfb/xw_zt/moe_357/jyzt_2019n/2019_zt27/jyjs/shaanxi/201910/t20191016_403713.html',\n",
       " 'http://www.moe.gov.cn/jyb_xwfb/s6052/moe_838/201910/t20191016_403706.html',\n",
       " 'http://www.moe.gov.cn/jyb_xwfb/xw_zt/moe_357/jyzt_2019n/2019_zt27/zsgx/njnydx/201910/t20191015_403620.html',\n",
       " 'http://www.moe.gov.cn/jyb_xwfb/xw_zt/moe_357/jyzt_2019n/2019_zt27/zsgx/xmdx/201910/t20191015_403594.html',\n",
       " 'http://www.moe.gov.cn/jyb_xwfb/xw_zt/moe_357/jyzt_2019n/2019_zt27/zsgx/bjzyydx/201910/t20191015_403541.html',\n",
       " 'http://www.moe.gov.cn/jyb_xwfb/moe_2082/zl_2019n/2019_zl79/201910/t20191015_403439.html',\n",
       " 'http://www.moe.gov.cn/jyb_xwfb/xw_zt/moe_357/jyzt_2019n/2019_zt27/zsgx/bjyddx/201910/t20191015_403435.html',\n",
       " 'http://www.moe.gov.cn/jyb_xwfb/moe_2082/zl_2019n/2019_zl79/201910/t20191015_403436.html',\n",
       " 'http://www.moe.gov.cn/jyb_xwfb/xw_zt/moe_357/jyzt_2019n/2019_zt27/zsgx/bjyddx/201910/t20191015_403433.html',\n",
       " 'http://www.moe.gov.cn/jyb_xwfb/s6192/s133/s145/201910/t20191015_403431.html',\n",
       " 'http://www.moe.gov.cn/jyb_xwfb/s6192/s222/moe_1747/201910/t20191015_403428.html',\n",
       " 'http://www.moe.gov.cn/jyb_xwfb/moe_2082/zl_2019n/2019_zl79/201910/t20191015_403494.html',\n",
       " 'http://www.moe.gov.cn/fbh/live/2019/51300/mtbd/201910/t20191014_403235.html']"
      ]
     },
     "execution_count": 19,
     "metadata": {},
     "output_type": "execute_result"
    }
   ],
   "source": [
    "addr"
   ]
  },
  {
   "cell_type": "code",
   "execution_count": null,
   "metadata": {},
   "outputs": [],
   "source": []
  },
  {
   "cell_type": "code",
   "execution_count": 33,
   "metadata": {},
   "outputs": [
    {
     "ename": "AttributeError",
     "evalue": "'NoneType' object has no attribute 'find_all'",
     "output_type": "error",
     "traceback": [
      "\u001b[1;31m---------------------------------------------------------------------------\u001b[0m",
      "\u001b[1;31mAttributeError\u001b[0m                            Traceback (most recent call last)",
      "\u001b[1;32m<ipython-input-33-39976aba38fa>\u001b[0m in \u001b[0;36m<module>\u001b[1;34m\u001b[0m\n\u001b[0;32m     38\u001b[0m \u001b[0mtext\u001b[0m \u001b[1;33m=\u001b[0m \u001b[1;33m[\u001b[0m\u001b[1;33m]\u001b[0m\u001b[1;33m\u001b[0m\u001b[0m\n\u001b[0;32m     39\u001b[0m \u001b[1;32mfor\u001b[0m \u001b[0madd1\u001b[0m \u001b[1;32min\u001b[0m \u001b[0maddr\u001b[0m\u001b[1;33m:\u001b[0m\u001b[1;33m\u001b[0m\u001b[0m\n\u001b[1;32m---> 40\u001b[1;33m     \u001b[0mtext\u001b[0m\u001b[1;33m.\u001b[0m\u001b[0mappend\u001b[0m\u001b[1;33m(\u001b[0m\u001b[0mget_text\u001b[0m\u001b[1;33m(\u001b[0m\u001b[0madd1\u001b[0m\u001b[1;33m,\u001b[0m\u001b[0mheader\u001b[0m\u001b[1;33m)\u001b[0m\u001b[1;33m)\u001b[0m\u001b[1;33m\u001b[0m\u001b[0m\n\u001b[0m",
      "\u001b[1;32m<ipython-input-33-39976aba38fa>\u001b[0m in \u001b[0;36mget_text\u001b[1;34m(url, header)\u001b[0m\n\u001b[0;32m     26\u001b[0m     '''\n\u001b[0;32m     27\u001b[0m     \u001b[0mresponse\u001b[0m \u001b[1;33m=\u001b[0m \u001b[0mbs\u001b[0m\u001b[1;33m(\u001b[0m\u001b[0mrequests\u001b[0m\u001b[1;33m.\u001b[0m\u001b[0mget\u001b[0m\u001b[1;33m(\u001b[0m\u001b[0murl\u001b[0m\u001b[1;33m,\u001b[0m\u001b[0mheaders\u001b[0m \u001b[1;33m=\u001b[0m \u001b[0mheader\u001b[0m\u001b[1;33m)\u001b[0m\u001b[1;33m.\u001b[0m\u001b[0mcontent\u001b[0m\u001b[1;33m,\u001b[0m\u001b[1;34m'lxml'\u001b[0m\u001b[1;33m)\u001b[0m\u001b[1;33m\u001b[0m\u001b[0m\n\u001b[1;32m---> 28\u001b[1;33m     \u001b[0mans\u001b[0m \u001b[1;33m=\u001b[0m \u001b[0mresponse\u001b[0m\u001b[1;33m.\u001b[0m\u001b[0mfind\u001b[0m\u001b[1;33m(\u001b[0m\u001b[1;34m'div'\u001b[0m\u001b[1;33m,\u001b[0m\u001b[0mclass_\u001b[0m\u001b[1;33m=\u001b[0m\u001b[1;34m\"TRS_Editor\"\u001b[0m\u001b[1;33m)\u001b[0m\u001b[1;33m.\u001b[0m\u001b[0mfind_all\u001b[0m\u001b[1;33m(\u001b[0m\u001b[1;34m'p'\u001b[0m\u001b[1;33m)\u001b[0m\u001b[1;33m\u001b[0m\u001b[0m\n\u001b[0m\u001b[0;32m     29\u001b[0m     \u001b[0mcontent\u001b[0m \u001b[1;33m=\u001b[0m \u001b[1;33m[\u001b[0m\u001b[1;33m]\u001b[0m\u001b[1;33m\u001b[0m\u001b[0m\n\u001b[0;32m     30\u001b[0m     \u001b[1;32mfor\u001b[0m \u001b[0mele\u001b[0m \u001b[1;32min\u001b[0m \u001b[0mans\u001b[0m\u001b[1;33m:\u001b[0m\u001b[1;33m\u001b[0m\u001b[0m\n",
      "\u001b[1;31mAttributeError\u001b[0m: 'NoneType' object has no attribute 'find_all'"
     ]
    }
   ],
   "source": [
    "from bs4 import BeautifulSoup as bs\n",
    "import lxml\n",
    "import requests\n",
    "import time\n",
    "agents = ['Mozilla/5.0 (Windows NT 6.1; WOW64) AppleWebKit/535.1 (KHTML, like Gecko) Chrome/14.0.835.163 Safari/535.1',\\\n",
    "'Mozilla/5.0 (Windows NT 6.1; WOW64; rv:6.0) Gecko/20100101 Firefox/6.0',\\\n",
    " 'Mozilla/5.0 (Windows NT 6.1; WOW64) AppleWebKit/534.50 (KHTML, like Gecko) Version/5.1 Safari/534.50',\\\n",
    "'Opera/9.80 (Windows NT 6.1; U; zh-cn) Presto/2.9.168 Version/11.50',\\\n",
    "'Mozilla/5.0 (compatible; MSIE 9.0; Windows NT 6.1; Win64; x64; Trident/5.0; .NET CLR 2.0.50727; SLCC2; .NET CLR 3.5.30729; .NET CLR 3.0.30729; Media Center PC 6.0; InfoPath.3; .NET4.0C; Tablet PC 2.0; .NET4.0E)',\\\n",
    "'Mozilla/4.0 (compatible; MSIE 8.0; Windows NT 6.1; WOW64; Trident/4.0; SLCC2; .NET CLR 2.0.50727; .NET CLR 3.5.30729; .NET CLR 3.0.30729; Media Center PC 6.0; .NET4.0C; InfoPath.3)',\\\n",
    "'Mozilla/4.0 (compatible; MSIE 8.0; Windows NT 5.1; Trident/4.0; GTB7.0)',\\\n",
    " 'Mozilla/4.0 (compatible; MSIE 7.0; Windows NT 5.1)',\\\n",
    "'Mozilla/4.0 (compatible; MSIE 6.0; Windows NT 5.1; SV1)',\\\n",
    "'Mozilla/5.0 (Windows; U; Windows NT 6.1; ) AppleWebKit/534.12 (KHTML, like Gecko) Maxthon/3.0 Safari/534.12',\\\n",
    "'Mozilla/4.0 (compatible; MSIE 7.0; Windows NT 6.1; WOW64; Trident/5.0; SLCC2; .NET CLR 2.0.50727; .NET CLR 3.5.30729; .NET CLR 3.0.30729; Media Center PC 6.0; InfoPath.3; .NET4.0C; .NET4.0E)',\\\n",
    "'Mozilla/4.0 (compatible; MSIE 7.0; Windows NT 6.1; WOW64; Trident/5.0; SLCC2; .NET CLR 2.0.50727; .NET CLR 3.5.30729; .NET CLR 3.0.30729; Media Center PC 6.0; InfoPath.3; .NET4.0C; .NET4.0E; SE 2.X MetaSr 1.0)',\\\n",
    "'Mozilla/5.0 (Windows; U; Windows NT 6.1; en-US) AppleWebKit/534.3 (KHTML, like Gecko) Chrome/6.0.472.33 Safari/534.3 SE 2.X MetaSr 1.0',\\\n",
    "'Mozilla/5.0 (compatible; MSIE 9.0; Windows NT 6.1; WOW64; Trident/5.0; SLCC2; .NET CLR 2.0.50727; .NET CLR 3.5.30729; .NET CLR 3.0.30729; Media Center PC 6.0; InfoPath.3; .NET4.0C; .NET4.0E)',\\\n",
    "'Mozilla/5.0 (Windows NT 6.1) AppleWebKit/535.1 (KHTML, like Gecko) Chrome/13.0.782.41 Safari/535.1 QQBrowser/6.9.11079.201',\\\n",
    "'Mozilla/4.0 (compatible; MSIE 7.0; Windows NT 6.1; WOW64; Trident/5.0; SLCC2; .NET CLR 2.0.50727; .NET CLR 3.5.30729; .NET CLR 3.0.30729; Media Center PC 6.0; InfoPath.3; .NET4.0C; .NET4.0E) QQBrowser/6.9.11079.201',\\\n",
    "'Mozilla/5.0 (compatible; MSIE 9.0; Windows NT 6.1; WOW64; Trident/5.0)']\n",
    "header = {'Accept': 'text/html,application/xhtml+xml,application/xml;q=0.9,image/webp,image/apng,*/*;q=0.8,application/signed-exchange;v=b3',\\\n",
    "          'Accept-Encoding': 'gzip, deflate',\\\n",
    "          'Accept-Language': 'en-US,en;q=0.9',\\\n",
    "          'Cache-Control': 'max-age=0',\\\n",
    "          'Connection': 'keep-alive',\\\n",
    "          'Cookie': 'wdcid=2289180a81fe7440; wdlast=1571314447',\\\n",
    "          'Host': 'www.moe.gov.cn',\\\n",
    "          'Upgrade-Insecure-Requests': '1',\\\n",
    "          'User-Agent': 'Mozilla/5.0 (Windows NT 10.0; Win64; x64) AppleWebKit/537.36 (KHTML, like Gecko) Chrome/77.0.3865.120 Safari/537.36'}\n",
    "def get_link(url,addr):\n",
    "    response = bs(requests.get(url,headers = header).content,'lxml')\n",
    "    ans = response.find('div',class_ = 'm_search_list').find_all('a')\n",
    "    for ele in ans:\n",
    "        txt = str(ele)\n",
    "        start = txt.find('\"')\n",
    "        txt[start+1:]\n",
    "        end = txt[start+1:].find('\"')\n",
    "        addr.append(txt[start+1:start+end+1])\n",
    "#addr 获取所有链接\n",
    "def get_text(url,header):\n",
    "    '''\n",
    "    访问所有链接\n",
    "    '''\n",
    "    response = bs(requests.get(url,headers = header).content,'lxml')\n",
    "    ans = response.find_all('p')\n",
    "    content = []\n",
    "    for ele in ans:\n",
    "        content.append(ele.text.replace('\\u3000',''))\n",
    "    return ''.join(content)\n",
    "url = 'http://www.moe.gov.cn/was5/web/search?channelid=244081&searchword=%E5%A4%A7%E5%AD%A6%E7%94%9F%E5%88%9B%E6%96%B0%E5%88%9B%E4%B8%9A&andsen=%25E5%25A4%25A7%25E5%25AD%25A6%25E7%2594%259F%25E5%2588%259B%25E6%2596%25B0%25E5%2588%259B%25E4%25B8%259A&total=&orsen=&exclude=&perpage=20&searchscope=&timescope=&timescopecolumn=&orderby=-DOCRELTIME&page='\n",
    "#start_str = 'https://www.ncss.org.cn'\n",
    "addr = []\n",
    "for i in range(70):\n",
    "    get_link(url + str(i+1),addr)\n",
    "text = []\n",
    "temp = []\n",
    "for i in range(0,len(addr)):\n",
    "    if (i+1) % 100 == 0:\n",
    "        time.sleep(1)\n",
    "        print(i)\n",
    "        header['User-Agent'] = agents[(i+1)//100 - 1]\n",
    "        text.extend(temp)\n",
    "        temp = []\n",
    "    try:\n",
    "        temp.append(get_text(addr[i],header))\n",
    "    except requests.exceptions.RequestException as e:\n",
    "        continue"
   ]
  },
  {
   "cell_type": "code",
   "execution_count": 67,
   "metadata": {},
   "outputs": [],
   "source": [
    "text.extend(temp)\n",
    "temp = []"
   ]
  },
  {
   "cell_type": "code",
   "execution_count": 90,
   "metadata": {},
   "outputs": [],
   "source": [
    "f.close()\n",
    "with open(\"test.txt\",\"w\",encoding='gb18030') as f:\n",
    "    f.write(' '.join(text))"
   ]
  },
  {
   "cell_type": "code",
   "execution_count": 71,
   "metadata": {
    "scrolled": false
   },
   "outputs": [
    {
     "name": "stdout",
     "output_type": "stream",
     "text": [
      "99\n",
      "199\n",
      "299\n",
      "399\n",
      "499\n",
      "599\n",
      "699\n",
      "799\n",
      "899\n",
      "999\n",
      "1099\n",
      "1199\n",
      "1299\n"
     ]
    }
   ],
   "source": [
    "text = []\n",
    "temp = []\n",
    "for i in range(0,len(addr)):\n",
    "    if (i+1) % 100 == 0:\n",
    "        time.sleep(1)\n",
    "        print(i)\n",
    "        header['User-Agent'] = agents[(i+1)//100 - 1]\n",
    "        text.extend(temp)\n",
    "        temp = []\n",
    "    try:\n",
    "        temp.append(get_text(addr[i],header))\n",
    "    except requests.exceptions.RequestException as e:\n",
    "        continue"
   ]
  },
  {
   "cell_type": "code",
   "execution_count": 40,
   "metadata": {},
   "outputs": [],
   "source": [
    "def get_text(url,header):\n",
    "    '''\n",
    "    访问所有链接\n",
    "    '''\n",
    "    response = bs(requests.get(url,headers = header).content,'lxml')\n",
    "    ans = response.find_all('p')\n",
    "    content = []\n",
    "    for ele in ans:\n",
    "        content.append(ele.text.replace('\\u3000',''))\n",
    "    return ''.join(content)"
   ]
  },
  {
   "cell_type": "code",
   "execution_count": 39,
   "metadata": {},
   "outputs": [
    {
     "data": {
      "text/plain": [
       "'http://www.moe.gov.cn/srcsite/A08/s7056/201910/t20191011_402759.html'"
      ]
     },
     "execution_count": 39,
     "metadata": {},
     "output_type": "execute_result"
    }
   ],
   "source": [
    "addr[i]"
   ]
  },
  {
   "cell_type": "code",
   "execution_count": 50,
   "metadata": {},
   "outputs": [
    {
     "data": {
      "text/plain": [
       "11"
      ]
     },
     "execution_count": 50,
     "metadata": {},
     "output_type": "execute_result"
    }
   ],
   "source": [
    "i"
   ]
  },
  {
   "cell_type": "code",
   "execution_count": 70,
   "metadata": {},
   "outputs": [
    {
     "data": {
      "text/plain": [
       "1382"
      ]
     },
     "execution_count": 70,
     "metadata": {},
     "output_type": "execute_result"
    }
   ],
   "source": [
    "len(addr)"
   ]
  },
  {
   "cell_type": "code",
   "execution_count": 55,
   "metadata": {},
   "outputs": [
    {
     "data": {
      "text/plain": [
       "'Mozilla/5.0 (Windows NT 10.0; Win64; x64) AppleWebKit/537.36 (KHTML, like Gecko) Chrome/77.0.3865.120 Safari/537.36'"
      ]
     },
     "execution_count": 55,
     "metadata": {},
     "output_type": "execute_result"
    }
   ],
   "source": [
    "header['User-Agent']"
   ]
  },
  {
   "cell_type": "code",
   "execution_count": 46,
   "metadata": {},
   "outputs": [],
   "source": []
  },
  {
   "cell_type": "code",
   "execution_count": 52,
   "metadata": {},
   "outputs": [],
   "source": []
  },
  {
   "cell_type": "code",
   "execution_count": 54,
   "metadata": {},
   "outputs": [
    {
     "data": {
      "text/plain": [
       "17"
      ]
     },
     "execution_count": 54,
     "metadata": {},
     "output_type": "execute_result"
    }
   ],
   "source": [
    "len(agents)"
   ]
  },
  {
   "cell_type": "code",
   "execution_count": 8,
   "metadata": {},
   "outputs": [
    {
     "name": "stdout",
     "output_type": "stream",
     "text": [
      "0\n",
      "100\n",
      "200\n",
      "300\n",
      "400\n",
      "500\n",
      "600\n",
      "700\n",
      "800\n",
      "900\n",
      "1000\n",
      "1100\n",
      "1200\n",
      "1300\n",
      "1400\n",
      "1500\n",
      "1600\n",
      "1700\n",
      "1800\n",
      "1900\n",
      "2000\n",
      "2100\n",
      "2200\n",
      "2300\n",
      "2400\n",
      "2500\n",
      "2600\n",
      "0\n",
      "100\n",
      "200\n",
      "300\n",
      "400\n",
      "500\n",
      "600\n",
      "700\n",
      "800\n",
      "900\n",
      "1000\n",
      "1100\n",
      "1200\n",
      "1300\n",
      "1400\n",
      "1500\n",
      "1600\n",
      "1700\n",
      "1800\n",
      "1900\n",
      "2000\n",
      "2100\n",
      "2200\n",
      "2300\n",
      "2400\n",
      "2500\n",
      "2600\n",
      "0\n",
      "100\n",
      "200\n",
      "300\n",
      "400\n",
      "500\n",
      "600\n",
      "700\n",
      "800\n",
      "900\n",
      "1000\n",
      "1100\n",
      "1200\n",
      "1300\n",
      "1400\n",
      "1500\n",
      "1600\n",
      "1700\n",
      "1800\n",
      "1900\n"
     ]
    }
   ],
   "source": [
    "from bs4 import BeautifulSoup as bs\n",
    "import lxml\n",
    "import requests\n",
    "import time\n",
    "import json\n",
    "#爬取国家创新创业政策信息网 国家大创题目\n",
    "agents = ['Mozilla/5.0 (Windows NT 6.1; WOW64) AppleWebKit/535.1 (KHTML, like Gecko) Chrome/14.0.835.163 Safari/535.1',\\\n",
    "'Mozilla/5.0 (Windows NT 6.1; WOW64; rv:6.0) Gecko/20100101 Firefox/6.0',\\\n",
    " 'Mozilla/5.0 (Windows NT 6.1; WOW64) AppleWebKit/534.50 (KHTML, like Gecko) Version/5.1 Safari/534.50',\\\n",
    "'Opera/9.80 (Windows NT 6.1; U; zh-cn) Presto/2.9.168 Version/11.50',\\\n",
    "'Mozilla/5.0 (compatible; MSIE 9.0; Windows NT 6.1; Win64; x64; Trident/5.0; .NET CLR 2.0.50727; SLCC2; .NET CLR 3.5.30729; .NET CLR 3.0.30729; Media Center PC 6.0; InfoPath.3; .NET4.0C; Tablet PC 2.0; .NET4.0E)',\\\n",
    "'Mozilla/4.0 (compatible; MSIE 8.0; Windows NT 6.1; WOW64; Trident/4.0; SLCC2; .NET CLR 2.0.50727; .NET CLR 3.5.30729; .NET CLR 3.0.30729; Media Center PC 6.0; .NET4.0C; InfoPath.3)',\\\n",
    "'Mozilla/4.0 (compatible; MSIE 8.0; Windows NT 5.1; Trident/4.0; GTB7.0)',\\\n",
    " 'Mozilla/4.0 (compatible; MSIE 7.0; Windows NT 5.1)',\\\n",
    "'Mozilla/4.0 (compatible; MSIE 6.0; Windows NT 5.1; SV1)',\\\n",
    "'Mozilla/5.0 (Windows; U; Windows NT 6.1; ) AppleWebKit/534.12 (KHTML, like Gecko) Maxthon/3.0 Safari/534.12',\\\n",
    "'Mozilla/4.0 (compatible; MSIE 7.0; Windows NT 6.1; WOW64; Trident/5.0; SLCC2; .NET CLR 2.0.50727; .NET CLR 3.5.30729; .NET CLR 3.0.30729; Media Center PC 6.0; InfoPath.3; .NET4.0C; .NET4.0E)',\\\n",
    "'Mozilla/4.0 (compatible; MSIE 7.0; Windows NT 6.1; WOW64; Trident/5.0; SLCC2; .NET CLR 2.0.50727; .NET CLR 3.5.30729; .NET CLR 3.0.30729; Media Center PC 6.0; InfoPath.3; .NET4.0C; .NET4.0E; SE 2.X MetaSr 1.0)',\\\n",
    "'Mozilla/5.0 (Windows; U; Windows NT 6.1; en-US) AppleWebKit/534.3 (KHTML, like Gecko) Chrome/6.0.472.33 Safari/534.3 SE 2.X MetaSr 1.0',\\\n",
    "'Mozilla/5.0 (compatible; MSIE 9.0; Windows NT 6.1; WOW64; Trident/5.0; SLCC2; .NET CLR 2.0.50727; .NET CLR 3.5.30729; .NET CLR 3.0.30729; Media Center PC 6.0; InfoPath.3; .NET4.0C; .NET4.0E)',\\\n",
    "'Mozilla/5.0 (Windows NT 6.1) AppleWebKit/535.1 (KHTML, like Gecko) Chrome/13.0.782.41 Safari/535.1 QQBrowser/6.9.11079.201',\\\n",
    "'Mozilla/4.0 (compatible; MSIE 7.0; Windows NT 6.1; WOW64; Trident/5.0; SLCC2; .NET CLR 2.0.50727; .NET CLR 3.5.30729; .NET CLR 3.0.30729; Media Center PC 6.0; InfoPath.3; .NET4.0C; .NET4.0E) QQBrowser/6.9.11079.201',\\\n",
    "'Mozilla/5.0 (compatible; MSIE 9.0; Windows NT 6.1; WOW64; Trident/5.0)']\n",
    "data_sc_ndrc = {\n",
    "    '__VIEWSTATE':'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',\\\n",
    "'__EVENTTARGET':'ctl00$ContentMain$AspNetPager1',\\\n",
    "'__EVENTARGUMENT':'2',\\\n",
    "'__EVENTVALIDATION':'/wEWDQK/1au6AgK0/5G2BgKIkZXvBALJz41SArzPldUOArf84Z4JAs23mrYJAs+8y6kJAs+8t8UBAs+8460DAs+8z8oLAs+8u2YC8vDSWmFsWenG7JSwRTYkHvFc7oO9snWWPm1HogU/k3/bEe5W',\\\n",
    "'ctl00$ContentMain$txtItemName':'',\\\n",
    "'ctl00$ContentMain$SelItemType':'',\\\n",
    "'ctl00$ContentMain$txtXueXiao':'',\\\n",
    "'ctl00$ContentMain$SelYears':'2019',\\\n",
    "'ctl00$ContentMain$AspNetPager1_input':'2'}\n",
    "header_sc_ndrc = {\n",
    "    'Accept':'text/html,application/xhtml+xml,application/xml;q=0.9,image/webp,*/*;q=0.8',\\\n",
    "'Accept-Encoding':'gzip, deflate, sdch',\\\n",
    "'Accept-Language':'zh-CN,zh;q=0.8',\\\n",
    "'Cache-Control':'max-age=0',\\\n",
    "'Content-Length':'6143',\\\n",
    "'Connection':'keep-alive',\\\n",
    "'Content-Type':'application/x-www-form-urlencoded',\\\n",
    "'Cookie':'ASP.NET_SessionId=bbaqsvjtbwpfxqnvhahu25ht; __AntiXsrfToken=8cefc57cfaec4826bc6d4be93aae0882',\\\n",
    "'Host':'gjcxcy.bjtu.edu.cn',\\\n",
    "'Origin':'http://gjcxcy.bjtu.edu.cn',\\\n",
    "'Referer':'http://gjcxcy.bjtu.edu.cn/LXItemList.aspx?54C0E255251CD285FA58172D2A5AEE43',\\\n",
    "'Upgrade-Insecure-Requests':'1',\\\n",
    "'User-Agent':'Mozilla/5.0 (Linux; Android 6.0; Nexus 5 Build/MRA58N) AppleWebKit/537.36 (KHTML, like Gecko) Chrome/46.0.2490.76 Mobile Safari/537.36'}\n",
    "url = 'http://gjcxcy.bjtu.edu.cn/LXItemList.aspx?54C0E255251CD285FA58172D2A5AEE43'\n",
    "ids = []\n",
    "year = [2019,2018,2017]\n",
    "num = [2615,2642,1964]\n",
    "#def get_ids_sc_ndrc(year,num,ids,data_sc_ndrc,header_sc_ndrc):\n",
    "for j in range(len(num)):\n",
    "    data_sc_ndrc['ctl00$ContentMain$SelYears'] = str(year[j])\n",
    "    for i in range(num[j]): # 2642 1964 49\n",
    "        if i%100 == 0:\n",
    "            time.sleep(1)\n",
    "            print(i)\n",
    "            header_sc_ndrc['User-Agent'] = agents[(i//100)%len(agents)]\n",
    "        try:\n",
    "            data_sc_ndrc['__EVENTARGUMENT'] = str(i+1)\n",
    "            response = bs(requests.post(url,data_sc_ndrc,headers = header_sc_ndrc).content,'lxml')\n",
    "            res = response.find_all('a',target = '_blank')\n",
    "            for ele in res:\n",
    "                txt = str(ele)\n",
    "                start = txt.find('\"')\n",
    "                #txt[start+1:]\n",
    "                if txt[start+1] != '/':\n",
    "                    continue\n",
    "                end = txt[start+1:].find('\"')\n",
    "                ids.append(txt[start+1:start+end+1])\n",
    "        except requests.exceptions.RequestException as e:\n",
    "            continue\n",
    "#     for ele in json.loads(response.text)['data']['list']:\n",
    "#         ids.append(ele['id'])"
   ]
  },
  {
   "cell_type": "code",
   "execution_count": 9,
   "metadata": {},
   "outputs": [],
   "source": [
    "import pickle\n",
    "with open('ids.pkl', 'wb') as f:\n",
    "    pickle.dump(ids,f)"
   ]
  },
  {
   "cell_type": "code",
   "execution_count": 14,
   "metadata": {},
   "outputs": [],
   "source": [
    "from bs4 import BeautifulSoup as bs\n",
    "import lxml\n",
    "import requests\n",
    "import time\n",
    "import json\n",
    "import pandas as pd"
   ]
  },
  {
   "cell_type": "code",
   "execution_count": 10,
   "metadata": {},
   "outputs": [],
   "source": [
    "with open('ids.pkl','rb') as f:\n",
    "    idss = pickle.load(f)"
   ]
  },
  {
   "cell_type": "code",
   "execution_count": 16,
   "metadata": {},
   "outputs": [
    {
     "name": "stdout",
     "output_type": "stream",
     "text": [
      "0\n",
      "time=0.0\n",
      "10000\n",
      "time=5320.125343799591\n"
     ]
    },
    {
     "ename": "KeyboardInterrupt",
     "evalue": "",
     "output_type": "error",
     "traceback": [
      "\u001b[1;31m---------------------------------------------------------------------------\u001b[0m",
      "\u001b[1;31mTimeoutError\u001b[0m                              Traceback (most recent call last)",
      "\u001b[1;32md:\\python\\lib\\site-packages\\urllib3\\util\\connection.py\u001b[0m in \u001b[0;36mcreate_connection\u001b[1;34m(address, timeout, source_address, socket_options)\u001b[0m\n\u001b[0;32m     69\u001b[0m                 \u001b[0msock\u001b[0m\u001b[1;33m.\u001b[0m\u001b[0mbind\u001b[0m\u001b[1;33m(\u001b[0m\u001b[0msource_address\u001b[0m\u001b[1;33m)\u001b[0m\u001b[1;33m\u001b[0m\u001b[0m\n\u001b[1;32m---> 70\u001b[1;33m             \u001b[0msock\u001b[0m\u001b[1;33m.\u001b[0m\u001b[0mconnect\u001b[0m\u001b[1;33m(\u001b[0m\u001b[0msa\u001b[0m\u001b[1;33m)\u001b[0m\u001b[1;33m\u001b[0m\u001b[0m\n\u001b[0m\u001b[0;32m     71\u001b[0m             \u001b[1;32mreturn\u001b[0m \u001b[0msock\u001b[0m\u001b[1;33m\u001b[0m\u001b[0m\n",
      "\u001b[1;31mTimeoutError\u001b[0m: [WinError 10060] 由于连接方在一段时间后没有正确答复或连接的主机没有反应，连接尝试失败。",
      "\nDuring handling of the above exception, another exception occurred:\n",
      "\u001b[1;31mKeyboardInterrupt\u001b[0m                         Traceback (most recent call last)",
      "\u001b[1;32m<ipython-input-16-4c80e4193e3f>\u001b[0m in \u001b[0;36m<module>\u001b[1;34m\u001b[0m\n\u001b[0;32m     11\u001b[0m         \u001b[0mtime_start\u001b[0m \u001b[1;33m=\u001b[0m \u001b[0mtime_end\u001b[0m\u001b[1;33m\u001b[0m\u001b[0m\n\u001b[0;32m     12\u001b[0m     \u001b[1;32mtry\u001b[0m\u001b[1;33m:\u001b[0m\u001b[1;33m\u001b[0m\u001b[0m\n\u001b[1;32m---> 13\u001b[1;33m         \u001b[0mans\u001b[0m \u001b[1;33m=\u001b[0m \u001b[0mbs\u001b[0m\u001b[1;33m(\u001b[0m\u001b[0mrequests\u001b[0m\u001b[1;33m.\u001b[0m\u001b[0mget\u001b[0m\u001b[1;33m(\u001b[0m\u001b[0murl\u001b[0m\u001b[1;33m)\u001b[0m\u001b[1;33m.\u001b[0m\u001b[0mcontent\u001b[0m\u001b[1;33m,\u001b[0m\u001b[1;34m'lxml'\u001b[0m\u001b[1;33m)\u001b[0m\u001b[1;33m.\u001b[0m\u001b[0mfind_all\u001b[0m\u001b[1;33m(\u001b[0m\u001b[1;34m'div'\u001b[0m\u001b[1;33m,\u001b[0m\u001b[0mclass_\u001b[0m \u001b[1;33m=\u001b[0m \u001b[1;34m'Content_Nr'\u001b[0m\u001b[1;33m)\u001b[0m\u001b[1;33m\u001b[0m\u001b[0m\n\u001b[0m\u001b[0;32m     14\u001b[0m         \u001b[1;32mfor\u001b[0m \u001b[1;33m(\u001b[0m\u001b[0mi\u001b[0m\u001b[1;33m,\u001b[0m\u001b[0mele\u001b[0m\u001b[1;33m)\u001b[0m \u001b[1;32min\u001b[0m \u001b[0menumerate\u001b[0m\u001b[1;33m(\u001b[0m\u001b[0mans\u001b[0m\u001b[1;33m)\u001b[0m\u001b[1;33m:\u001b[0m\u001b[1;33m\u001b[0m\u001b[0m\n\u001b[0;32m     15\u001b[0m         \u001b[1;31m#1 4 6 7 13\u001b[0m\u001b[1;33m\u001b[0m\u001b[1;33m\u001b[0m\u001b[0m\n",
      "\u001b[1;32md:\\python\\lib\\site-packages\\requests\\api.py\u001b[0m in \u001b[0;36mget\u001b[1;34m(url, params, **kwargs)\u001b[0m\n\u001b[0;32m     73\u001b[0m \u001b[1;33m\u001b[0m\u001b[0m\n\u001b[0;32m     74\u001b[0m     \u001b[0mkwargs\u001b[0m\u001b[1;33m.\u001b[0m\u001b[0msetdefault\u001b[0m\u001b[1;33m(\u001b[0m\u001b[1;34m'allow_redirects'\u001b[0m\u001b[1;33m,\u001b[0m \u001b[1;32mTrue\u001b[0m\u001b[1;33m)\u001b[0m\u001b[1;33m\u001b[0m\u001b[0m\n\u001b[1;32m---> 75\u001b[1;33m     \u001b[1;32mreturn\u001b[0m \u001b[0mrequest\u001b[0m\u001b[1;33m(\u001b[0m\u001b[1;34m'get'\u001b[0m\u001b[1;33m,\u001b[0m \u001b[0murl\u001b[0m\u001b[1;33m,\u001b[0m \u001b[0mparams\u001b[0m\u001b[1;33m=\u001b[0m\u001b[0mparams\u001b[0m\u001b[1;33m,\u001b[0m \u001b[1;33m**\u001b[0m\u001b[0mkwargs\u001b[0m\u001b[1;33m)\u001b[0m\u001b[1;33m\u001b[0m\u001b[0m\n\u001b[0m\u001b[0;32m     76\u001b[0m \u001b[1;33m\u001b[0m\u001b[0m\n\u001b[0;32m     77\u001b[0m \u001b[1;33m\u001b[0m\u001b[0m\n",
      "\u001b[1;32md:\\python\\lib\\site-packages\\requests\\api.py\u001b[0m in \u001b[0;36mrequest\u001b[1;34m(method, url, **kwargs)\u001b[0m\n\u001b[0;32m     58\u001b[0m     \u001b[1;31m# cases, and look like a memory leak in others.\u001b[0m\u001b[1;33m\u001b[0m\u001b[1;33m\u001b[0m\u001b[0m\n\u001b[0;32m     59\u001b[0m     \u001b[1;32mwith\u001b[0m \u001b[0msessions\u001b[0m\u001b[1;33m.\u001b[0m\u001b[0mSession\u001b[0m\u001b[1;33m(\u001b[0m\u001b[1;33m)\u001b[0m \u001b[1;32mas\u001b[0m \u001b[0msession\u001b[0m\u001b[1;33m:\u001b[0m\u001b[1;33m\u001b[0m\u001b[0m\n\u001b[1;32m---> 60\u001b[1;33m         \u001b[1;32mreturn\u001b[0m \u001b[0msession\u001b[0m\u001b[1;33m.\u001b[0m\u001b[0mrequest\u001b[0m\u001b[1;33m(\u001b[0m\u001b[0mmethod\u001b[0m\u001b[1;33m=\u001b[0m\u001b[0mmethod\u001b[0m\u001b[1;33m,\u001b[0m \u001b[0murl\u001b[0m\u001b[1;33m=\u001b[0m\u001b[0murl\u001b[0m\u001b[1;33m,\u001b[0m \u001b[1;33m**\u001b[0m\u001b[0mkwargs\u001b[0m\u001b[1;33m)\u001b[0m\u001b[1;33m\u001b[0m\u001b[0m\n\u001b[0m\u001b[0;32m     61\u001b[0m \u001b[1;33m\u001b[0m\u001b[0m\n\u001b[0;32m     62\u001b[0m \u001b[1;33m\u001b[0m\u001b[0m\n",
      "\u001b[1;32md:\\python\\lib\\site-packages\\requests\\sessions.py\u001b[0m in \u001b[0;36mrequest\u001b[1;34m(self, method, url, params, data, headers, cookies, files, auth, timeout, allow_redirects, proxies, hooks, stream, verify, cert, json)\u001b[0m\n\u001b[0;32m    531\u001b[0m         }\n\u001b[0;32m    532\u001b[0m         \u001b[0msend_kwargs\u001b[0m\u001b[1;33m.\u001b[0m\u001b[0mupdate\u001b[0m\u001b[1;33m(\u001b[0m\u001b[0msettings\u001b[0m\u001b[1;33m)\u001b[0m\u001b[1;33m\u001b[0m\u001b[0m\n\u001b[1;32m--> 533\u001b[1;33m         \u001b[0mresp\u001b[0m \u001b[1;33m=\u001b[0m \u001b[0mself\u001b[0m\u001b[1;33m.\u001b[0m\u001b[0msend\u001b[0m\u001b[1;33m(\u001b[0m\u001b[0mprep\u001b[0m\u001b[1;33m,\u001b[0m \u001b[1;33m**\u001b[0m\u001b[0msend_kwargs\u001b[0m\u001b[1;33m)\u001b[0m\u001b[1;33m\u001b[0m\u001b[0m\n\u001b[0m\u001b[0;32m    534\u001b[0m \u001b[1;33m\u001b[0m\u001b[0m\n\u001b[0;32m    535\u001b[0m         \u001b[1;32mreturn\u001b[0m \u001b[0mresp\u001b[0m\u001b[1;33m\u001b[0m\u001b[0m\n",
      "\u001b[1;32md:\\python\\lib\\site-packages\\requests\\sessions.py\u001b[0m in \u001b[0;36msend\u001b[1;34m(self, request, **kwargs)\u001b[0m\n\u001b[0;32m    644\u001b[0m \u001b[1;33m\u001b[0m\u001b[0m\n\u001b[0;32m    645\u001b[0m         \u001b[1;31m# Send the request\u001b[0m\u001b[1;33m\u001b[0m\u001b[1;33m\u001b[0m\u001b[0m\n\u001b[1;32m--> 646\u001b[1;33m         \u001b[0mr\u001b[0m \u001b[1;33m=\u001b[0m \u001b[0madapter\u001b[0m\u001b[1;33m.\u001b[0m\u001b[0msend\u001b[0m\u001b[1;33m(\u001b[0m\u001b[0mrequest\u001b[0m\u001b[1;33m,\u001b[0m \u001b[1;33m**\u001b[0m\u001b[0mkwargs\u001b[0m\u001b[1;33m)\u001b[0m\u001b[1;33m\u001b[0m\u001b[0m\n\u001b[0m\u001b[0;32m    647\u001b[0m \u001b[1;33m\u001b[0m\u001b[0m\n\u001b[0;32m    648\u001b[0m         \u001b[1;31m# Total elapsed time of the request (approximately)\u001b[0m\u001b[1;33m\u001b[0m\u001b[1;33m\u001b[0m\u001b[0m\n",
      "\u001b[1;32md:\\python\\lib\\site-packages\\requests\\adapters.py\u001b[0m in \u001b[0;36msend\u001b[1;34m(self, request, stream, timeout, verify, cert, proxies)\u001b[0m\n\u001b[0;32m    447\u001b[0m                     \u001b[0mdecode_content\u001b[0m\u001b[1;33m=\u001b[0m\u001b[1;32mFalse\u001b[0m\u001b[1;33m,\u001b[0m\u001b[1;33m\u001b[0m\u001b[0m\n\u001b[0;32m    448\u001b[0m                     \u001b[0mretries\u001b[0m\u001b[1;33m=\u001b[0m\u001b[0mself\u001b[0m\u001b[1;33m.\u001b[0m\u001b[0mmax_retries\u001b[0m\u001b[1;33m,\u001b[0m\u001b[1;33m\u001b[0m\u001b[0m\n\u001b[1;32m--> 449\u001b[1;33m                     \u001b[0mtimeout\u001b[0m\u001b[1;33m=\u001b[0m\u001b[0mtimeout\u001b[0m\u001b[1;33m\u001b[0m\u001b[0m\n\u001b[0m\u001b[0;32m    450\u001b[0m                 )\n\u001b[0;32m    451\u001b[0m \u001b[1;33m\u001b[0m\u001b[0m\n",
      "\u001b[1;32md:\\python\\lib\\site-packages\\urllib3\\connectionpool.py\u001b[0m in \u001b[0;36murlopen\u001b[1;34m(self, method, url, body, headers, retries, redirect, assert_same_host, timeout, pool_timeout, release_conn, chunked, body_pos, **response_kw)\u001b[0m\n\u001b[0;32m    598\u001b[0m                                                   \u001b[0mtimeout\u001b[0m\u001b[1;33m=\u001b[0m\u001b[0mtimeout_obj\u001b[0m\u001b[1;33m,\u001b[0m\u001b[1;33m\u001b[0m\u001b[0m\n\u001b[0;32m    599\u001b[0m                                                   \u001b[0mbody\u001b[0m\u001b[1;33m=\u001b[0m\u001b[0mbody\u001b[0m\u001b[1;33m,\u001b[0m \u001b[0mheaders\u001b[0m\u001b[1;33m=\u001b[0m\u001b[0mheaders\u001b[0m\u001b[1;33m,\u001b[0m\u001b[1;33m\u001b[0m\u001b[0m\n\u001b[1;32m--> 600\u001b[1;33m                                                   chunked=chunked)\n\u001b[0m\u001b[0;32m    601\u001b[0m \u001b[1;33m\u001b[0m\u001b[0m\n\u001b[0;32m    602\u001b[0m             \u001b[1;31m# If we're going to release the connection in ``finally:``, then\u001b[0m\u001b[1;33m\u001b[0m\u001b[1;33m\u001b[0m\u001b[0m\n",
      "\u001b[1;32md:\\python\\lib\\site-packages\\urllib3\\connectionpool.py\u001b[0m in \u001b[0;36m_make_request\u001b[1;34m(self, conn, method, url, timeout, chunked, **httplib_request_kw)\u001b[0m\n\u001b[0;32m    352\u001b[0m             \u001b[0mconn\u001b[0m\u001b[1;33m.\u001b[0m\u001b[0mrequest_chunked\u001b[0m\u001b[1;33m(\u001b[0m\u001b[0mmethod\u001b[0m\u001b[1;33m,\u001b[0m \u001b[0murl\u001b[0m\u001b[1;33m,\u001b[0m \u001b[1;33m**\u001b[0m\u001b[0mhttplib_request_kw\u001b[0m\u001b[1;33m)\u001b[0m\u001b[1;33m\u001b[0m\u001b[0m\n\u001b[0;32m    353\u001b[0m         \u001b[1;32melse\u001b[0m\u001b[1;33m:\u001b[0m\u001b[1;33m\u001b[0m\u001b[0m\n\u001b[1;32m--> 354\u001b[1;33m             \u001b[0mconn\u001b[0m\u001b[1;33m.\u001b[0m\u001b[0mrequest\u001b[0m\u001b[1;33m(\u001b[0m\u001b[0mmethod\u001b[0m\u001b[1;33m,\u001b[0m \u001b[0murl\u001b[0m\u001b[1;33m,\u001b[0m \u001b[1;33m**\u001b[0m\u001b[0mhttplib_request_kw\u001b[0m\u001b[1;33m)\u001b[0m\u001b[1;33m\u001b[0m\u001b[0m\n\u001b[0m\u001b[0;32m    355\u001b[0m \u001b[1;33m\u001b[0m\u001b[0m\n\u001b[0;32m    356\u001b[0m         \u001b[1;31m# Reset the timeout for the recv() on the socket\u001b[0m\u001b[1;33m\u001b[0m\u001b[1;33m\u001b[0m\u001b[0m\n",
      "\u001b[1;32md:\\python\\lib\\http\\client.py\u001b[0m in \u001b[0;36mrequest\u001b[1;34m(self, method, url, body, headers, encode_chunked)\u001b[0m\n\u001b[0;32m   1237\u001b[0m                 encode_chunked=False):\n\u001b[0;32m   1238\u001b[0m         \u001b[1;34m\"\"\"Send a complete request to the server.\"\"\"\u001b[0m\u001b[1;33m\u001b[0m\u001b[0m\n\u001b[1;32m-> 1239\u001b[1;33m         \u001b[0mself\u001b[0m\u001b[1;33m.\u001b[0m\u001b[0m_send_request\u001b[0m\u001b[1;33m(\u001b[0m\u001b[0mmethod\u001b[0m\u001b[1;33m,\u001b[0m \u001b[0murl\u001b[0m\u001b[1;33m,\u001b[0m \u001b[0mbody\u001b[0m\u001b[1;33m,\u001b[0m \u001b[0mheaders\u001b[0m\u001b[1;33m,\u001b[0m \u001b[0mencode_chunked\u001b[0m\u001b[1;33m)\u001b[0m\u001b[1;33m\u001b[0m\u001b[0m\n\u001b[0m\u001b[0;32m   1240\u001b[0m \u001b[1;33m\u001b[0m\u001b[0m\n\u001b[0;32m   1241\u001b[0m     \u001b[1;32mdef\u001b[0m \u001b[0m_send_request\u001b[0m\u001b[1;33m(\u001b[0m\u001b[0mself\u001b[0m\u001b[1;33m,\u001b[0m \u001b[0mmethod\u001b[0m\u001b[1;33m,\u001b[0m \u001b[0murl\u001b[0m\u001b[1;33m,\u001b[0m \u001b[0mbody\u001b[0m\u001b[1;33m,\u001b[0m \u001b[0mheaders\u001b[0m\u001b[1;33m,\u001b[0m \u001b[0mencode_chunked\u001b[0m\u001b[1;33m)\u001b[0m\u001b[1;33m:\u001b[0m\u001b[1;33m\u001b[0m\u001b[0m\n",
      "\u001b[1;32md:\\python\\lib\\http\\client.py\u001b[0m in \u001b[0;36m_send_request\u001b[1;34m(self, method, url, body, headers, encode_chunked)\u001b[0m\n\u001b[0;32m   1283\u001b[0m             \u001b[1;31m# default charset of iso-8859-1.\u001b[0m\u001b[1;33m\u001b[0m\u001b[1;33m\u001b[0m\u001b[0m\n\u001b[0;32m   1284\u001b[0m             \u001b[0mbody\u001b[0m \u001b[1;33m=\u001b[0m \u001b[0m_encode\u001b[0m\u001b[1;33m(\u001b[0m\u001b[0mbody\u001b[0m\u001b[1;33m,\u001b[0m \u001b[1;34m'body'\u001b[0m\u001b[1;33m)\u001b[0m\u001b[1;33m\u001b[0m\u001b[0m\n\u001b[1;32m-> 1285\u001b[1;33m         \u001b[0mself\u001b[0m\u001b[1;33m.\u001b[0m\u001b[0mendheaders\u001b[0m\u001b[1;33m(\u001b[0m\u001b[0mbody\u001b[0m\u001b[1;33m,\u001b[0m \u001b[0mencode_chunked\u001b[0m\u001b[1;33m=\u001b[0m\u001b[0mencode_chunked\u001b[0m\u001b[1;33m)\u001b[0m\u001b[1;33m\u001b[0m\u001b[0m\n\u001b[0m\u001b[0;32m   1286\u001b[0m \u001b[1;33m\u001b[0m\u001b[0m\n\u001b[0;32m   1287\u001b[0m     \u001b[1;32mdef\u001b[0m \u001b[0mgetresponse\u001b[0m\u001b[1;33m(\u001b[0m\u001b[0mself\u001b[0m\u001b[1;33m)\u001b[0m\u001b[1;33m:\u001b[0m\u001b[1;33m\u001b[0m\u001b[0m\n",
      "\u001b[1;32md:\\python\\lib\\http\\client.py\u001b[0m in \u001b[0;36mendheaders\u001b[1;34m(self, message_body, encode_chunked)\u001b[0m\n\u001b[0;32m   1232\u001b[0m         \u001b[1;32melse\u001b[0m\u001b[1;33m:\u001b[0m\u001b[1;33m\u001b[0m\u001b[0m\n\u001b[0;32m   1233\u001b[0m             \u001b[1;32mraise\u001b[0m \u001b[0mCannotSendHeader\u001b[0m\u001b[1;33m(\u001b[0m\u001b[1;33m)\u001b[0m\u001b[1;33m\u001b[0m\u001b[0m\n\u001b[1;32m-> 1234\u001b[1;33m         \u001b[0mself\u001b[0m\u001b[1;33m.\u001b[0m\u001b[0m_send_output\u001b[0m\u001b[1;33m(\u001b[0m\u001b[0mmessage_body\u001b[0m\u001b[1;33m,\u001b[0m \u001b[0mencode_chunked\u001b[0m\u001b[1;33m=\u001b[0m\u001b[0mencode_chunked\u001b[0m\u001b[1;33m)\u001b[0m\u001b[1;33m\u001b[0m\u001b[0m\n\u001b[0m\u001b[0;32m   1235\u001b[0m \u001b[1;33m\u001b[0m\u001b[0m\n\u001b[0;32m   1236\u001b[0m     def request(self, method, url, body=None, headers={}, *,\n",
      "\u001b[1;32md:\\python\\lib\\http\\client.py\u001b[0m in \u001b[0;36m_send_output\u001b[1;34m(self, message_body, encode_chunked)\u001b[0m\n\u001b[0;32m   1024\u001b[0m         \u001b[0mmsg\u001b[0m \u001b[1;33m=\u001b[0m \u001b[1;34mb\"\\r\\n\"\u001b[0m\u001b[1;33m.\u001b[0m\u001b[0mjoin\u001b[0m\u001b[1;33m(\u001b[0m\u001b[0mself\u001b[0m\u001b[1;33m.\u001b[0m\u001b[0m_buffer\u001b[0m\u001b[1;33m)\u001b[0m\u001b[1;33m\u001b[0m\u001b[0m\n\u001b[0;32m   1025\u001b[0m         \u001b[1;32mdel\u001b[0m \u001b[0mself\u001b[0m\u001b[1;33m.\u001b[0m\u001b[0m_buffer\u001b[0m\u001b[1;33m[\u001b[0m\u001b[1;33m:\u001b[0m\u001b[1;33m]\u001b[0m\u001b[1;33m\u001b[0m\u001b[0m\n\u001b[1;32m-> 1026\u001b[1;33m         \u001b[0mself\u001b[0m\u001b[1;33m.\u001b[0m\u001b[0msend\u001b[0m\u001b[1;33m(\u001b[0m\u001b[0mmsg\u001b[0m\u001b[1;33m)\u001b[0m\u001b[1;33m\u001b[0m\u001b[0m\n\u001b[0m\u001b[0;32m   1027\u001b[0m \u001b[1;33m\u001b[0m\u001b[0m\n\u001b[0;32m   1028\u001b[0m         \u001b[1;32mif\u001b[0m \u001b[0mmessage_body\u001b[0m \u001b[1;32mis\u001b[0m \u001b[1;32mnot\u001b[0m \u001b[1;32mNone\u001b[0m\u001b[1;33m:\u001b[0m\u001b[1;33m\u001b[0m\u001b[0m\n",
      "\u001b[1;32md:\\python\\lib\\http\\client.py\u001b[0m in \u001b[0;36msend\u001b[1;34m(self, data)\u001b[0m\n\u001b[0;32m    962\u001b[0m         \u001b[1;32mif\u001b[0m \u001b[0mself\u001b[0m\u001b[1;33m.\u001b[0m\u001b[0msock\u001b[0m \u001b[1;32mis\u001b[0m \u001b[1;32mNone\u001b[0m\u001b[1;33m:\u001b[0m\u001b[1;33m\u001b[0m\u001b[0m\n\u001b[0;32m    963\u001b[0m             \u001b[1;32mif\u001b[0m \u001b[0mself\u001b[0m\u001b[1;33m.\u001b[0m\u001b[0mauto_open\u001b[0m\u001b[1;33m:\u001b[0m\u001b[1;33m\u001b[0m\u001b[0m\n\u001b[1;32m--> 964\u001b[1;33m                 \u001b[0mself\u001b[0m\u001b[1;33m.\u001b[0m\u001b[0mconnect\u001b[0m\u001b[1;33m(\u001b[0m\u001b[1;33m)\u001b[0m\u001b[1;33m\u001b[0m\u001b[0m\n\u001b[0m\u001b[0;32m    965\u001b[0m             \u001b[1;32melse\u001b[0m\u001b[1;33m:\u001b[0m\u001b[1;33m\u001b[0m\u001b[0m\n\u001b[0;32m    966\u001b[0m                 \u001b[1;32mraise\u001b[0m \u001b[0mNotConnected\u001b[0m\u001b[1;33m(\u001b[0m\u001b[1;33m)\u001b[0m\u001b[1;33m\u001b[0m\u001b[0m\n",
      "\u001b[1;32md:\\python\\lib\\site-packages\\urllib3\\connection.py\u001b[0m in \u001b[0;36mconnect\u001b[1;34m(self)\u001b[0m\n\u001b[0;32m    179\u001b[0m \u001b[1;33m\u001b[0m\u001b[0m\n\u001b[0;32m    180\u001b[0m     \u001b[1;32mdef\u001b[0m \u001b[0mconnect\u001b[0m\u001b[1;33m(\u001b[0m\u001b[0mself\u001b[0m\u001b[1;33m)\u001b[0m\u001b[1;33m:\u001b[0m\u001b[1;33m\u001b[0m\u001b[0m\n\u001b[1;32m--> 181\u001b[1;33m         \u001b[0mconn\u001b[0m \u001b[1;33m=\u001b[0m \u001b[0mself\u001b[0m\u001b[1;33m.\u001b[0m\u001b[0m_new_conn\u001b[0m\u001b[1;33m(\u001b[0m\u001b[1;33m)\u001b[0m\u001b[1;33m\u001b[0m\u001b[0m\n\u001b[0m\u001b[0;32m    182\u001b[0m         \u001b[0mself\u001b[0m\u001b[1;33m.\u001b[0m\u001b[0m_prepare_conn\u001b[0m\u001b[1;33m(\u001b[0m\u001b[0mconn\u001b[0m\u001b[1;33m)\u001b[0m\u001b[1;33m\u001b[0m\u001b[0m\n\u001b[0;32m    183\u001b[0m \u001b[1;33m\u001b[0m\u001b[0m\n",
      "\u001b[1;32md:\\python\\lib\\site-packages\\urllib3\\connection.py\u001b[0m in \u001b[0;36m_new_conn\u001b[1;34m(self)\u001b[0m\n\u001b[0;32m    157\u001b[0m         \u001b[1;32mtry\u001b[0m\u001b[1;33m:\u001b[0m\u001b[1;33m\u001b[0m\u001b[0m\n\u001b[0;32m    158\u001b[0m             conn = connection.create_connection(\n\u001b[1;32m--> 159\u001b[1;33m                 (self._dns_host, self.port), self.timeout, **extra_kw)\n\u001b[0m\u001b[0;32m    160\u001b[0m \u001b[1;33m\u001b[0m\u001b[0m\n\u001b[0;32m    161\u001b[0m         \u001b[1;32mexcept\u001b[0m \u001b[0mSocketTimeout\u001b[0m \u001b[1;32mas\u001b[0m \u001b[0me\u001b[0m\u001b[1;33m:\u001b[0m\u001b[1;33m\u001b[0m\u001b[0m\n",
      "\u001b[1;32md:\\python\\lib\\site-packages\\urllib3\\util\\connection.py\u001b[0m in \u001b[0;36mcreate_connection\u001b[1;34m(address, timeout, source_address, socket_options)\u001b[0m\n\u001b[0;32m     68\u001b[0m             \u001b[1;32mif\u001b[0m \u001b[0msource_address\u001b[0m\u001b[1;33m:\u001b[0m\u001b[1;33m\u001b[0m\u001b[0m\n\u001b[0;32m     69\u001b[0m                 \u001b[0msock\u001b[0m\u001b[1;33m.\u001b[0m\u001b[0mbind\u001b[0m\u001b[1;33m(\u001b[0m\u001b[0msource_address\u001b[0m\u001b[1;33m)\u001b[0m\u001b[1;33m\u001b[0m\u001b[0m\n\u001b[1;32m---> 70\u001b[1;33m             \u001b[0msock\u001b[0m\u001b[1;33m.\u001b[0m\u001b[0mconnect\u001b[0m\u001b[1;33m(\u001b[0m\u001b[0msa\u001b[0m\u001b[1;33m)\u001b[0m\u001b[1;33m\u001b[0m\u001b[0m\n\u001b[0m\u001b[0;32m     71\u001b[0m             \u001b[1;32mreturn\u001b[0m \u001b[0msock\u001b[0m\u001b[1;33m\u001b[0m\u001b[0m\n\u001b[0;32m     72\u001b[0m \u001b[1;33m\u001b[0m\u001b[0m\n",
      "\u001b[1;31mKeyboardInterrupt\u001b[0m: "
     ]
    }
   ],
   "source": [
    "#df = pd.DataFrame(columns = ['项目名称','所属学校','所属学科门类','所属专业大类','项目简介'])\n",
    "data = {'项目名称':[],'所属学校':[],'所属学科门类':[],'所属专业大类':[],'项目简介':[]}\n",
    "time_start =  time.time()\n",
    "for j in range(len(ids)):\n",
    "    url = 'http://gjcxcy.bjtu.edu.cn' + ids[j]\n",
    "    if j%10000 == 0:\n",
    "        time_end =  time.time()\n",
    "        time.sleep(1)\n",
    "        print(j)\n",
    "        print(\"time=\"+str(time_end-time_start))\n",
    "        time_start = time_end\n",
    "    try:        \n",
    "        ans = bs(requests.get(url).content,'lxml').find_all('div',class_ = 'Content_Nr')\n",
    "        for (i,ele) in enumerate(ans):\n",
    "        #1 4 6 7 13\n",
    "            if i == 1:\n",
    "                data['项目名称'].append(ele.text.strip()[5:])\n",
    "            if i == 4:\n",
    "                data['所属学校'].append(ele.text.strip()[5:])\n",
    "            if i == 6:\n",
    "                data['所属学科门类'].append(ele.text.strip()[7:])\n",
    "            if i == 7:\n",
    "                data['所属专业大类'].append(ele.text.strip()[7:])\n",
    "            if i == 13:\n",
    "                data['项目简介'].append(ele.text.strip()[5:])\n",
    "    except requests.exceptions.RequestException as e:\n",
    "            continue\n",
    "df = pd.DataFrame(data,columns = ['项目名称','所属学校','所属学科门类','所属专业大类','项目简介'])    "
   ]
  },
  {
   "cell_type": "code",
   "execution_count": null,
   "metadata": {},
   "outputs": [],
   "source": [
    "with open('items.pkl', 'wb') as f:\n",
    "    pickle.dump(df,f)"
   ]
  },
  {
   "cell_type": "code",
   "execution_count": 2,
   "metadata": {},
   "outputs": [
    {
     "ename": "NameError",
     "evalue": "name 'df' is not defined",
     "output_type": "error",
     "traceback": [
      "\u001b[1;31m---------------------------------------------------------------------------\u001b[0m",
      "\u001b[1;31mNameError\u001b[0m                                 Traceback (most recent call last)",
      "\u001b[1;32m<ipython-input-2-c42a15b2c7cf>\u001b[0m in \u001b[0;36m<module>\u001b[1;34m\u001b[0m\n\u001b[1;32m----> 1\u001b[1;33m \u001b[0mdf\u001b[0m\u001b[1;33m.\u001b[0m\u001b[0mhead\u001b[0m\u001b[1;33m(\u001b[0m\u001b[1;33m)\u001b[0m\u001b[1;33m\u001b[0m\u001b[0m\n\u001b[0m",
      "\u001b[1;31mNameError\u001b[0m: name 'df' is not defined"
     ]
    }
   ],
   "source": [
    "df.head()"
   ]
  },
  {
   "cell_type": "code",
   "execution_count": 8,
   "metadata": {},
   "outputs": [
    {
     "data": {
      "text/html": [
       "<div>\n",
       "<style scoped>\n",
       "    .dataframe tbody tr th:only-of-type {\n",
       "        vertical-align: middle;\n",
       "    }\n",
       "\n",
       "    .dataframe tbody tr th {\n",
       "        vertical-align: top;\n",
       "    }\n",
       "\n",
       "    .dataframe thead th {\n",
       "        text-align: right;\n",
       "    }\n",
       "</style>\n",
       "<table border=\"1\" class=\"dataframe\">\n",
       "  <thead>\n",
       "    <tr style=\"text-align: right;\">\n",
       "      <th></th>\n",
       "      <th>项目名称</th>\n",
       "      <th>所属学校</th>\n",
       "      <th>所属学科门类</th>\n",
       "      <th>所属专业大类</th>\n",
       "      <th>项目简介</th>\n",
       "    </tr>\n",
       "  </thead>\n",
       "  <tbody>\n",
       "    <tr>\n",
       "      <th>108118</th>\n",
       "      <td>适宜番茄椰糠基质栽培的营养液配方筛选</td>\n",
       "      <td>中国农业大学</td>\n",
       "      <td>农学.</td>\n",
       "      <td></td>\n",
       "      <td>椰糠是可再生有机基质,近年来有取代岩棉作为无土栽培基质的趋势。但其对营养液的影响不同于岩棉。...</td>\n",
       "    </tr>\n",
       "    <tr>\n",
       "      <th>108119</th>\n",
       "      <td>甘薯不同品种耐盐性鉴定与评价</td>\n",
       "      <td>中国农业大学</td>\n",
       "      <td>农学.</td>\n",
       "      <td></td>\n",
       "      <td>对不同甘薯品种细胞及植株进行耐盐处理，从表型，生物性状，分子水平分别评价其耐盐性，筛选耐盐性...</td>\n",
       "    </tr>\n",
       "    <tr>\n",
       "      <th>108120</th>\n",
       "      <td>玉米抗茎腐病相关基因的功能鉴定</td>\n",
       "      <td>中国农业大学</td>\n",
       "      <td>农学.</td>\n",
       "      <td></td>\n",
       "      <td>以在田间和实验室表现出明显抗感差异的NIL为材料，挖掘抗病代谢途径中关键基因。构建候选基因的...</td>\n",
       "    </tr>\n",
       "    <tr>\n",
       "      <th>108121</th>\n",
       "      <td>玉米种子耐贮藏，耐脱水相关基因及突变体的挖掘</td>\n",
       "      <td>中国农业大学</td>\n",
       "      <td>农学.</td>\n",
       "      <td></td>\n",
       "      <td>转座子标签法是研究基因功能的比较广泛的手段之一。本研究基于玉米Mu转座子转座活性强等特点，创...</td>\n",
       "    </tr>\n",
       "    <tr>\n",
       "      <th>108122</th>\n",
       "      <td>甜玉米种子人工与自然老化机理的差异性比较研究</td>\n",
       "      <td>中国农业大学</td>\n",
       "      <td>农学.</td>\n",
       "      <td></td>\n",
       "      <td>本实验拟以甜玉米种子为材料，采用四种不同的人工老化方法与自然老化方法对种子进行处理，研究比较...</td>\n",
       "    </tr>\n",
       "  </tbody>\n",
       "</table>\n",
       "</div>"
      ],
      "text/plain": [
       "                          项目名称    所属学校 所属学科门类 所属专业大类  \\\n",
       "108118      适宜番茄椰糠基质栽培的营养液配方筛选  中国农业大学    农学.          \n",
       "108119          甘薯不同品种耐盐性鉴定与评价  中国农业大学    农学.          \n",
       "108120         玉米抗茎腐病相关基因的功能鉴定  中国农业大学    农学.          \n",
       "108121  玉米种子耐贮藏，耐脱水相关基因及突变体的挖掘  中国农业大学    农学.          \n",
       "108122  甜玉米种子人工与自然老化机理的差异性比较研究  中国农业大学    农学.          \n",
       "\n",
       "                                                     项目简介  \n",
       "108118  椰糠是可再生有机基质,近年来有取代岩棉作为无土栽培基质的趋势。但其对营养液的影响不同于岩棉。...  \n",
       "108119  对不同甘薯品种细胞及植株进行耐盐处理，从表型，生物性状，分子水平分别评价其耐盐性，筛选耐盐性...  \n",
       "108120  以在田间和实验室表现出明显抗感差异的NIL为材料，挖掘抗病代谢途径中关键基因。构建候选基因的...  \n",
       "108121  转座子标签法是研究基因功能的比较广泛的手段之一。本研究基于玉米Mu转座子转座活性强等特点，创...  \n",
       "108122  本实验拟以甜玉米种子为材料，采用四种不同的人工老化方法与自然老化方法对种子进行处理，研究比较...  "
      ]
     },
     "execution_count": 8,
     "metadata": {},
     "output_type": "execute_result"
    }
   ],
   "source": [
    "df.tail()"
   ]
  },
  {
   "cell_type": "code",
   "execution_count": 11,
   "metadata": {},
   "outputs": [],
   "source": [
    "items = df.groupby([\"所属学校\"])[\"项目名称\"].count()"
   ]
  },
  {
   "cell_type": "code",
   "execution_count": 21,
   "metadata": {},
   "outputs": [],
   "source": [
    "sorts = items.sort_values()"
   ]
  },
  {
   "cell_type": "code",
   "execution_count": 23,
   "metadata": {},
   "outputs": [],
   "source": [
    "from matplotlib import pyplot as plt"
   ]
  },
  {
   "cell_type": "code",
   "execution_count": 3,
   "metadata": {},
   "outputs": [
    {
     "ename": "NameError",
     "evalue": "name 'sorts' is not defined",
     "output_type": "error",
     "traceback": [
      "\u001b[1;31m---------------------------------------------------------------------------\u001b[0m",
      "\u001b[1;31mNameError\u001b[0m                                 Traceback (most recent call last)",
      "\u001b[1;32m<ipython-input-3-ff98d4bfb81c>\u001b[0m in \u001b[0;36m<module>\u001b[1;34m\u001b[0m\n\u001b[1;32m----> 1\u001b[1;33m \u001b[0msorts\u001b[0m\u001b[1;33m[\u001b[0m\u001b[1;33m:\u001b[0m\u001b[1;36m100\u001b[0m\u001b[1;33m]\u001b[0m\u001b[1;33m.\u001b[0m\u001b[0mplot\u001b[0m\u001b[1;33m(\u001b[0m\u001b[0mkind\u001b[0m \u001b[1;33m=\u001b[0m \u001b[1;34m'bar'\u001b[0m\u001b[1;33m)\u001b[0m\u001b[1;33m\u001b[0m\u001b[0m\n\u001b[0m",
      "\u001b[1;31mNameError\u001b[0m: name 'sorts' is not defined"
     ]
    }
   ],
   "source": [
    "sorts[:100].plot(kind = 'bar')"
   ]
  },
  {
   "cell_type": "code",
   "execution_count": 1,
   "metadata": {},
   "outputs": [
    {
     "ename": "NameError",
     "evalue": "name 'df' is not defined",
     "output_type": "error",
     "traceback": [
      "\u001b[1;31m---------------------------------------------------------------------------\u001b[0m",
      "\u001b[1;31mNameError\u001b[0m                                 Traceback (most recent call last)",
      "\u001b[1;32m<ipython-input-1-2227f77f864d>\u001b[0m in \u001b[0;36m<module>\u001b[1;34m\u001b[0m\n\u001b[1;32m----> 1\u001b[1;33m \u001b[0mdf\u001b[0m\u001b[1;33m.\u001b[0m\u001b[0mloc\u001b[0m\u001b[1;33m[\u001b[0m\u001b[0mdf\u001b[0m\u001b[1;33m[\u001b[0m\u001b[1;34m'所属学校'\u001b[0m\u001b[1;33m]\u001b[0m \u001b[1;33m==\u001b[0m \u001b[1;34m'华北电力大学'\u001b[0m\u001b[1;33m]\u001b[0m\u001b[1;33m\u001b[0m\u001b[0m\n\u001b[0m",
      "\u001b[1;31mNameError\u001b[0m: name 'df' is not defined"
     ]
    }
   ],
   "source": [
    "df.loc[df['所属学校'] == '华北电力大学']"
   ]
  },
  {
   "cell_type": "code",
   "execution_count": 7,
   "metadata": {},
   "outputs": [
    {
     "data": {
      "text/plain": [
       "''"
      ]
     },
     "execution_count": 7,
     "metadata": {},
     "output_type": "execute_result"
    }
   ],
   "source": [
    "ids"
   ]
  },
  {
   "cell_type": "code",
   "execution_count": null,
   "metadata": {},
   "outputs": [],
   "source": []
  }
 ],
 "metadata": {
  "kernelspec": {
   "display_name": "Python 3",
   "language": "python",
   "name": "python3"
  },
  "language_info": {
   "codemirror_mode": {
    "name": "ipython",
    "version": 3
   },
   "file_extension": ".py",
   "mimetype": "text/x-python",
   "name": "python",
   "nbconvert_exporter": "python",
   "pygments_lexer": "ipython3",
   "version": "3.6.3rc1"
  }
 },
 "nbformat": 4,
 "nbformat_minor": 2
}
