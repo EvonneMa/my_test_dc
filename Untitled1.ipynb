{
 "cells": [
  {
   "cell_type": "code",
   "execution_count": 1,
   "metadata": {},
   "outputs": [],
   "source": [
    "from bs4 import BeautifulSoup as bs\n",
    "import lxml\n",
    "import requests\n",
    "import time\n",
    "import json\n",
    "import pandas as pd\n",
    "import pickle\n",
    "import concurrent.futures\n",
    "import threading\n",
    "with open('urls.pkl','rb') as f:\n",
    "    urls = pickle.load(f)"
   ]
  },
  {
   "cell_type": "code",
   "execution_count": 3,
   "metadata": {},
   "outputs": [
    {
     "name": "stdout",
     "output_type": "stream",
     "text": [
      "第0组：95.03644704818726\n",
      "第1组：126.36503481864929\n",
      "第2组：119.09238147735596\n",
      "第3组：98.25553727149963\n",
      "第4组：95.30179786682129\n",
      "第5组：99.9166579246521\n",
      "第6组：98.0220890045166\n",
      "第7组：99.98032021522522\n",
      "第8组：98.30773138999939\n",
      "第9组：98.97518849372864\n",
      "第10组：123.892831325531\n",
      "第11组：97.67807459831238\n",
      "第12组：101.69413256645203\n",
      "第13组：108.37035369873047\n",
      "第14组：103.20206356048584\n",
      "第15组：100.33465313911438\n",
      "第16组：105.07197713851929\n",
      "第17组：107.96338176727295\n",
      "第18组：108.48836016654968\n",
      "第19组：101.32898211479187\n",
      "第20组：117.42825937271118\n"
     ]
    }
   ],
   "source": [
    "def get_text(url):\n",
    "    data = {'项目名称':[],'所属学校':[],'所属学科门类':[],'所属专业大类':[],'项目简介':[]}\n",
    "    try:\n",
    "        #time_1 = time.time()\n",
    "        #ans = bs(requests.get(url,timeout = (0.1,5)).content,'lxml').find_all(\"div\",class_ = \"Content_Nr\")\n",
    "        #ans = bs(requests.get(url,timeout = (0.1,5)).content,'lxml')\n",
    "        #time_2 =  time.time()\n",
    "        #print(\"单次耗时：url_time=\"+str(time_2-time_1))\n",
    "        #res = ans.find(\"div\",class_ = \"Login_05\").text\n",
    "        ans = bs(requests.get(url,timeout = (0.5,5)).content,'lxml').find_all('div',class_ = 'Content_Nr')\n",
    "        for (i,ele) in enumerate(ans):\n",
    "        #1 4 6 7 13\n",
    "            if i == 1:\n",
    "                data['项目名称'].append(ele.text.strip()[5:])\n",
    "            if i == 4:\n",
    "                data['所属学校'].append(ele.text.strip()[5:])\n",
    "            if i == 6:\n",
    "                data['所属学科门类'].append(ele.text.strip()[7:])\n",
    "            if i == 7:\n",
    "                data['所属专业大类'].append(ele.text.strip()[7:])\n",
    "            if i == 13:\n",
    "                data['项目简介'].append(ele.text.strip()[5:])\n",
    "    except requests.exceptions.RequestException as e:\n",
    "        pass\n",
    "    df = pd.DataFrame(data,columns = ['项目名称','所属学校','所属学科门类','所属专业大类','项目简介']) \n",
    "    return df\n",
    "length = len(urls)\n",
    "df = pd.DataFrame(columns = ['项目名称','所属学校','所属学科门类','所属专业大类','项目简介'])\n",
    "for num in range(len(urls)//5000):\n",
    "    time.sleep(1)\n",
    "    time_start =  time.time()\n",
    "    s = num*5000\n",
    "    e = min((num+1)*5000,length)\n",
    "    #executor = concurrent.futures.ThreadPoolExecutor(max_workers=100)\n",
    "    #ans = executor.map(get_text, urls[s:e])\n",
    "    with concurrent.futures.ThreadPoolExecutor(max_workers=100) as executor:\n",
    "        ans = executor.map(get_text,urls[s:e])\n",
    "    res = list(ans)\n",
    "    time_end =  time.time()\n",
    "    print(\"第\" + str(num) + \"组：\" + str(time_end - time_start))\n",
    "    for ele in res:\n",
    "        df = pd.concat([df,ele])"
   ]
  },
  {
   "cell_type": "code",
   "execution_count": 4,
   "metadata": {},
   "outputs": [],
   "source": [
    "with open('data.pkl','wb') as f:\n",
    "    pickle.dump(df,f)"
   ]
  },
  {
   "cell_type": "code",
   "execution_count": null,
   "metadata": {},
   "outputs": [],
   "source": []
  }
 ],
 "metadata": {
  "kernelspec": {
   "display_name": "Python 3",
   "language": "python",
   "name": "python3"
  },
  "language_info": {
   "codemirror_mode": {
    "name": "ipython",
    "version": 3
   },
   "file_extension": ".py",
   "mimetype": "text/x-python",
   "name": "python",
   "nbconvert_exporter": "python",
   "pygments_lexer": "ipython3",
   "version": "3.6.3rc1"
  }
 },
 "nbformat": 4,
 "nbformat_minor": 2
}
